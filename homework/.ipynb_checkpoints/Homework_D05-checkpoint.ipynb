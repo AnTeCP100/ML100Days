{
 "cells": [
  {
   "cell_type": "code",
   "execution_count": 20,
   "metadata": {},
   "outputs": [
    {
     "name": "stdout",
     "output_type": "stream",
     "text": [
      "#請計算各科成績平均、最大值、最小值、標準差，其中數學缺一筆資料可忽略\n",
      "English :  [67.16666666666667, 89, 48, 13.433995020924426]\n",
      "Math :  [66.6, 85.0, 60.0, 9.707728879609279]\n",
      "Chinese :  [75.33333333333333, 90, 65, 8.825468196582484] \n",
      "\n",
      "#第五位同學補考數學後成績為 55，請計算補考後數學成績平均、最大值、最小值、標準差？\n",
      "Answer 2 :  [64.66666666666667, 85.0, 55.0, 9.860132971832694] \n",
      "\n",
      "#用補考後資料找出與國文成績相關係數最高的學科？\n",
      "English \n",
      "\n"
     ]
    }
   ],
   "source": [
    "import numpy as np\n",
    "english_score = np.array([55,89,76,65,48,70])\n",
    "\n",
    "math_score = np.array([60,85,60,68,np.nan,60])\n",
    "\n",
    "chinese_score = np.array([65,90,82,72,66,77])\n",
    "\n",
    "\n",
    "#請計算各科成績平均、最大值、最小值、標準差，其中數學缺一筆資料可忽略\n",
    "def _fiveCaculate(score_ar,ignore):\n",
    "    #([平均,最大值,最小值,標準差])\n",
    "    if(ignore):\n",
    "        _re=([np.nanmean(score_ar),np.nanmax(score_ar),np.nanmin(score_ar),np.nanstd(score_ar)])\n",
    "        return _re\n",
    "    else:\n",
    "        _re=([np.mean(score_ar),np.max(score_ar),np.min(score_ar),np.std(score_ar)])\n",
    "        return _re\n",
    "print(\"#請計算各科成績平均、最大值、最小值、標準差，其中數學缺一筆資料可忽略\")\n",
    "#英文計算\n",
    "Aws1_en = _fiveCaculate(english_score,True)\n",
    "print(\"English : \" , Aws1_en)\n",
    "#數學計算\n",
    "Aws1_math= _fiveCaculate(math_score,True)\n",
    "print(\"Math : \" , Aws1_math)\n",
    "#國文計算\n",
    "Aws1_ch= _fiveCaculate(chinese_score,True)\n",
    "print(\"Chinese : \" , Aws1_ch,\"\\n\")\n",
    "\n",
    "#第五位同學補考數學後成績為 55，請計算補考後數學成績平均、最大值、最小值、標準差？\n",
    "_new_math = math_score\n",
    "_new_math[4]=55\n",
    "Aws2_math=_fiveCaculate(_new_math,False)\n",
    "print(\"#第五位同學補考數學後成績為 55，請計算補考後數學成績平均、最大值、最小值、標準差？\")\n",
    "print(\"Answer 2 : \",Aws2_math,\"\\n\")\n",
    "\n",
    "#用補考後資料找出與國文成績相關係數最高的學科？\n",
    "print(\"#用補考後資料找出與國文成績相關係數最高的學科？\")\n",
    "Aws3 =\"Math\"\n",
    "if(np.correlate(english_score,chinese_score)>np.correlate(_new_math,chinese_score)):\n",
    "    Aws3=\"English \\n\"\n",
    "print(Aws3)\n"
   ]
  },
  {
   "cell_type": "code",
   "execution_count": null,
   "metadata": {},
   "outputs": [],
   "source": []
  }
 ],
 "metadata": {
  "kernelspec": {
   "display_name": "Python 3.8.3 64-bit",
   "language": "python",
   "name": "python38364bit099c514edd9047a49aabafa0f72d1ae2"
  },
  "language_info": {
   "codemirror_mode": {
    "name": "ipython",
    "version": 3
   },
   "file_extension": ".py",
   "mimetype": "text/x-python",
   "name": "python",
   "nbconvert_exporter": "python",
   "pygments_lexer": "ipython3",
   "version": "3.8.3"
  }
 },
 "nbformat": 4,
 "nbformat_minor": 4
}
