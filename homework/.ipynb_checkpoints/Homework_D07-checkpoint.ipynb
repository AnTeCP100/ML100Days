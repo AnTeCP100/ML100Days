{
 "cells": [
  {
   "cell_type": "code",
   "execution_count": 1,
   "metadata": {},
   "outputs": [],
   "source": [
    "import numpy as np"
   ]
  },
  {
   "cell_type": "code",
   "execution_count": 10,
   "metadata": {},
   "outputs": [
    {
     "name": "stdout",
     "output_type": "stream",
     "text": [
      "1. 反矩陣 : \n",
      " [[ 0.19230769 -0.30769231]\n",
      " [-0.11538462  0.38461538]] \n",
      "\n",
      "乘上原矩陣 : \n",
      " [[1. 0.]\n",
      " [0. 1.]] \n",
      "\n",
      "觀察是否為單位矩陣? :  True\n",
      " \n",
      "2.運用上列array計算特徵值、特徵向量?\n",
      " eigenvalue :\n",
      " [13.  2.] \n",
      " eigenvector : \n",
      " [[ 0.93632918 -0.70710678]\n",
      " [ 0.35112344  0.70710678]]\n",
      " \n",
      "3.運用上列array計算SVD?\n",
      " u :\n",
      " [[-0.91663818 -0.39971796]\n",
      " [-0.39971796  0.91663818]] \n",
      " s : \n",
      " [13.94721714  1.86417116] \n",
      " vh : \n",
      " [[-0.74319741 -0.6690722 ]\n",
      " [-0.6690722   0.74319741]]\n"
     ]
    }
   ],
   "source": [
    "array1 = np.array([[10, 8], [3, 5]])\n",
    "#運用上列array計算反矩陣，乘上原矩陣，並觀察是否為單位矩陣?\n",
    "array1_inverse = np.linalg.inv(array1)\n",
    "print(\"1. 反矩陣 : \\n\",array1_inverse,\"\\n\")\n",
    "array1_matmul=np.matmul(array1,array1_inverse)\n",
    "print(\"乘上原矩陣 : \\n\",array1_matmul,\"\\n\")\n",
    "print(\"觀察是否為單位矩陣? : \",np.all(np.identity(2)==array1_matmul))\n",
    "\n",
    "#運用上列array計算特徵值、特徵向量?\n",
    "w,v = np.linalg.eig(array1)\n",
    "print(\" \\n2.運用上列array計算特徵值、特徵向量?\\n eigenvalue :\\n\",w,\"\\n eigenvector : \\n\",v)\n",
    "#運用上列array計算SVD?\n",
    "u,s,vh=np.linalg.svd(array1)\n",
    "print(\" \\n3.運用上列array計算SVD?\\n u :\\n\",u,\"\\n s : \\n\",s,\"\\n vh : \\n\",vh)"
   ]
  },
  {
   "cell_type": "code",
   "execution_count": null,
   "metadata": {},
   "outputs": [],
   "source": []
  }
 ],
 "metadata": {
  "kernelspec": {
   "display_name": "Python 3.8.3 64-bit",
   "language": "python",
   "name": "python38364bit099c514edd9047a49aabafa0f72d1ae2"
  },
  "language_info": {
   "codemirror_mode": {
    "name": "ipython",
    "version": 3
   },
   "file_extension": ".py",
   "mimetype": "text/x-python",
   "name": "python",
   "nbconvert_exporter": "python",
   "pygments_lexer": "ipython3",
   "version": "3.8.3"
  }
 },
 "nbformat": 4,
 "nbformat_minor": 4
}
